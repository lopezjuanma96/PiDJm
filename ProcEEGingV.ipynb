{
 "cells": [
  {
   "cell_type": "markdown",
   "metadata": {},
   "source": [
    "# Desarrollo\n",
    "## Avances\n",
    "- Cargadas las señales en formato MNE y preprocesadas, falta revisar si funciona correctamente\n",
    "\n",
    "## Conclusiones\n",
    "- Hay que ver como cargar el archivo de montage para MNE."
   ]
  },
  {
   "cell_type": "code",
   "execution_count": 29,
   "metadata": {},
   "outputs": [],
   "source": [
    "#LIBRERÍAS\n",
    "\n",
    "#Librerías de Sistema\n",
    "import os\n",
    "import sys\n",
    "\n",
    "#Librerías de Manejo de Datos\n",
    "import pandas as pd\n",
    "import numpy as np\n",
    "\n",
    "#Librerías de Interfaz\n",
    "from tkinter import filedialog\n",
    "from tkinter import *\n",
    "from tkinter import messagebox\n",
    "\n",
    "#Librerías para EEG\n",
    "import mne\n",
    "\n",
    "#Librerías para Plotings\n",
    "import matplotlib.pyplot as plt"
   ]
  },
  {
   "cell_type": "markdown",
   "metadata": {},
   "source": [
    "### Variables Globales "
   ]
  },
  {
   "cell_type": "code",
   "execution_count": 30,
   "metadata": {},
   "outputs": [],
   "source": [
    "#definimos las variables de antemano para que las use todo el algoritmo, como globales\n",
    "usecols = 0   #columnas a utilizar del archivo de señal\n",
    "skiprows = 0  #Filas a saltear del archivo de señal\n",
    "sep = \",\"     #Símbolo que separa columnas en el archivo de señal\n",
    "\n",
    "col_names = [] #Lista para nombre de las columnas\n",
    "col_types = [] #Lista para el tipo de datos en cada columna\n",
    "\n",
    "chan_quant = 0 #Cantidad de columnas que son del tipo \"Channel\"\n",
    "\n",
    "chan_pos = []  #Posiciones en las que se colocaron los electrodos de cada canal\n",
    "chan_selecc = [] #Lista de canales que se van a utilizar del total presentes en el archivo de señal\n",
    "\n",
    "fq_lo = 0      #frequencia baja del filtro pasabanda\n",
    "fq_hi = 0      #frecuencia alta del filtro pasabanda\n",
    "fq_no = 0      #frecuencia del filtro notch\n",
    "fq_sub = 0     #frecuencia de submuestreo"
   ]
  },
  {
   "cell_type": "markdown",
   "metadata": {},
   "source": [
    "### Funciones"
   ]
  },
  {
   "cell_type": "code",
   "execution_count": 31,
   "metadata": {},
   "outputs": [],
   "source": [
    "#we create the function get indexes\n",
    "get_indexes = lambda x, xs: [i for (y, i) in zip(xs, range(len(xs))) if x == y]\n",
    "\n",
    "#This would work like : X = [\"Mario\", \"Luigi\", \"Yoshi\", \"Mario\"]\n",
    "#print(get_indexes(\"Mario\", X)) -> Out: [0,3]\n",
    "#print(get_indexes(\"Luigi\", X)) -> Out: [1]"
   ]
  },
  {
   "cell_type": "code",
   "execution_count": 32,
   "metadata": {},
   "outputs": [],
   "source": [
    "def yn_quest(quest):\n",
    "    while True:\n",
    "        answ = input(quest + ' [Y/N]: ')\n",
    "        if answ == 'Y' or answ == 'y' or answ == 'N' or answ == 'n':\n",
    "            break\n",
    "        else:\n",
    "            print('The entered answer is incorrect, please try again.')\n",
    "    return answ"
   ]
  },
  {
   "cell_type": "code",
   "execution_count": 33,
   "metadata": {},
   "outputs": [],
   "source": [
    "def load_signal():   \n",
    "    nom_s = input(\"Wich will be the signal name? \")\n",
    "\n",
    "    while True:\n",
    "        root = Tk() #Crea la ventana root\n",
    "        xs = filedialog.askopenfilename(title = \"Select Signal File :\",          #Dice que va a sacar la variable Xs como el filename de un archivo\n",
    "                                        filetypes = ((\"Documento de texto\",\"*.txt\"),\n",
    "                                                     (\"Excel (post 2003)\", \".xlsx\"),\n",
    "                                                     (\"Excel (prev 2003)\", \".xls\"),\n",
    "                                                     (\"Todos los archivos\",\"*.*\")\n",
    "                                                    ) #Con titulo de ventana y opciones de abrir archivos de ese tipo\n",
    "                                       ) \n",
    "        root.mainloop() #esto es para que la ventana quede abierta hasta que se de una respuesta, en este caso la selección de un archivo\n",
    "        \n",
    "        print (xs)\n",
    "\n",
    "        if \".txt\" in xs:\n",
    "            opt = yn_quest('Is it a file exported by the OpenBCI Software?')\n",
    "            if opt == 'Y' or opt == 'y':\n",
    "                XS = openbci_topd(xs)\n",
    "            else:\n",
    "                XS = csv_topd(xs)\n",
    "            print(\"Signal Loaded. TXT format.\")\n",
    "            break\n",
    "        \n",
    "        elif \".xlsx\" in xs or \".xls\" in xs:\n",
    "            XS = excel_topd(xs, interval = False)\n",
    "            print(\"Signal Loaded. Excel format.\") #Esto sería reemplazado por la función \"leer txt\" que tomaría la dirección y parámetros como Cantidad de columnas, Nombres de columnas, etc (o se puede probar con la direccion sola y si no funciona pedir parametros)\n",
    "            break\n",
    "\n",
    "        elif xs == \"\":\n",
    "            print(\"Cancelled Operation\")\n",
    "            break\n",
    "\n",
    "        else:\n",
    "            print(\"Wrong File Format. Try Again.\")\n",
    "            break\n",
    "\n",
    "    return XS, nom_s"
   ]
  },
  {
   "cell_type": "code",
   "execution_count": 34,
   "metadata": {},
   "outputs": [],
   "source": [
    "def csv_topd(truepath):\n",
    "    global usecols\n",
    "    global skiprows\n",
    "    global sep\n",
    "    global col_names\n",
    "    global col_types\n",
    "    \n",
    "    while True:\n",
    "        col_rows_sep()\n",
    "        \n",
    "        save_opt = input('Do you wish to save this configuration?: ') #Completar, cómo y dónde y la carga de la configuracion\n",
    "        \n",
    "        try:\n",
    "            X = pd.read_csv(truepath,  sep=sep, skiprows=skiprows, names=col_names, usecols=range(usecols), lineterminator = '\\n')\n",
    "        except:\n",
    "            print('\\n\\nThe input parameters do not match. Please enter them again.\\n\\n')\n",
    "            \n",
    "        else:\n",
    "            break\n",
    "    \n",
    "    X.col_names = col_names #Esto sería medio de gusto si ahora col_names y col_types son globales\n",
    "    X.col_types = col_types\n",
    "    \n",
    "    return X"
   ]
  },
  {
   "cell_type": "code",
   "execution_count": 35,
   "metadata": {},
   "outputs": [],
   "source": [
    "def openbci_topd(truepath):\n",
    "    global usecols\n",
    "    global skiprows\n",
    "    global sep\n",
    "    global col_names\n",
    "    global col_types\n",
    "    \n",
    "    selecc_predet = yn_quest('Will you use the default OpenBCI configuration?')\n",
    "    \n",
    "    if selecc_predet == 'N' or selecc_predet == 'n': #si decide que no el usuario ingresa los datos a tener en cuenta al leer, pero un archivo txt de OpenBCI\n",
    "        col_rows_sep()\n",
    "        \n",
    "        save_opt = input('Do you wish to save this configuration?: ') #Completar, cómo y dónde y la carga de la configuracion\n",
    "        \n",
    "    elif selecc_predet == 'Y' or selecc_predet == 'y':\n",
    "        sep = \",\"\n",
    "        col_names = ['Sample', 'Ch1', 'Ch2', 'Ch3', 'Ch4', 'x', 'y', 'z', 'Time', ' ']\n",
    "        col_types = ['Misc', 'Channel', 'Channel', 'Channel', 'Channel', 'Accel', 'Accel', 'Accel', 'Time', 'Misc'] #Esto sirve para saber que cantidad de columnas son canales, y que canal tiene los marcadores\n",
    "        usecols = 10\n",
    "        skiprows = 6\n",
    "        \n",
    "    while True:        \n",
    "        try:           \n",
    "            X = pd.read_csv(truepath,  sep=sep, skiprows=skiprows, lineterminator = '\\n')\n",
    "\n",
    "            assert X.values[0,0] == 1 \n",
    "\n",
    "        except AssertionError:   \n",
    "            skiprows = int(input(\"The selected format does not fit the file selected. ¿How many rows must be skiped?: \"))\n",
    "\n",
    "            Xt = pd.read_csv(truepath,  sep=sep, skiprows=skiprows, lineterminator = '\\n')\n",
    "            if all(X.values[0:4,0] != [0,1,2,3]):\n",
    "                sep = \";\"\n",
    "                Xt = pd.read_csv(truepath,  sep=sep, skiprows=skiprows, lineterminator = '\\n')\n",
    "\n",
    "            if all(X.values[0:4,0] != [0,1,2,3]):\n",
    "                sep = \".\"\n",
    "                Xt = pd.read_csv(truepath,  sep=sep, skiprows=skiprows, lineterminator = '\\n')\n",
    "\n",
    "            if all(X.values[0:4,0] != [0,1,2,3]):\n",
    "                sep = input(\"The selected format does not fit the file selected. Enter how columns are separated in the CSV file (.txt): \")\n",
    "#Faltaría un contador que vuelva hacia atrás si aún ingresando el formato manualmente sigue sin encajar,porque talvez no tiene la columna samples, podria aprovechar el return\n",
    "        else:\n",
    "            break\n",
    "\n",
    "    #vamos a hacer dos whiles infinitos, para que en el primero no se preocupe por los nombres y cantidad de columnas, sino por cuantas filas saltear, y en este próximo vea columnas\n",
    "\n",
    "    while True:        \n",
    "        try:           \n",
    "            X = pd.read_csv(truepath,  sep=sep, skiprows=skiprows, names=col_names, usecols=range(usecols), lineterminator = '\\n')\n",
    "        except:                   \n",
    "            usecols = int(input(\"The selected format does not fit the file selected. Please enter the number of columns: \"))\n",
    "            col_names = []\n",
    "            col_types = []\n",
    "            for i in range(usecols):\n",
    "                print(\"Name of column number \", (i+1))\n",
    "                nombre = input(\"Enter: \")\n",
    "                print(\"Type of column number \", (i+1), \" [Channel, Time, Accel, Markers, Misc]\") #Si no se puede armar la seleccion con Tkinter, buscar la librería pick de wong2\n",
    "                tipo = input(\"Enter: \")\n",
    "                col_names.append(nombre)\n",
    "                col_types.append(tipo)\n",
    "        else:                     \n",
    "            break \n",
    "    \n",
    "    return X"
   ]
  },
  {
   "cell_type": "code",
   "execution_count": 36,
   "metadata": {},
   "outputs": [],
   "source": [
    "def excel_topd(truepath, interval = True):\n",
    "    global usecols\n",
    "    global skiprows\n",
    "    global col_names\n",
    "    global col_types\n",
    "    \n",
    "    while True:\n",
    "        if interval == True:\n",
    "            \n",
    "            header = 0\n",
    "            index_col = 0\n",
    "            usecols = 3\n",
    "            skiprows = 0\n",
    "            col_names = ['Name', 'Startpoint']\n",
    "\n",
    "            endpoint_opt = yn_quest(\"Does it has an endpoint column?\")\n",
    "            if endpoint_opt == 'Y' or endpoint_opt == 'y':\n",
    "                col_names.append('Endpoint')\n",
    "                usecols =+ 1\n",
    "\n",
    "            duration_opt = yn_quest(\"Does it has a duration column?\")\n",
    "            if duration_opt == 'Y' or duration_opt == 'y':\n",
    "                col_names.append('Duration')\n",
    "                usecols =+ 1\n",
    "\n",
    "        elif interval == False:\n",
    "            header = None\n",
    "            index_col = None\n",
    "            col_rows_sep()\n",
    "        \n",
    "        try:\n",
    "            X = pd.read_excel(truepath, usecols = range(usecols), skiprows = skiprows, names = col_names, header=header, index_col=index_col)\n",
    "        except:\n",
    "            print('\\n\\nThe input parameters do not match. Please enter them again.\\n\\n')\n",
    "        else:\n",
    "            break\n",
    "    \n",
    "    return X"
   ]
  },
  {
   "cell_type": "code",
   "execution_count": 37,
   "metadata": {},
   "outputs": [],
   "source": [
    "def col_rows_sep():\n",
    "    \n",
    "    def print_col():\n",
    "        col_names_win.destroy()\n",
    "        global col_names\n",
    "        global col_types\n",
    "        \n",
    "        col_names = []\n",
    "        col_types = []\n",
    "        for i in range(columnas.get()):\n",
    "            col_names.append(col_n[i].get())\n",
    "            col_types.append(col_t[i].get())\n",
    "                    \n",
    "    def selec_pd ():       \n",
    "        \n",
    "        conf = messagebox.askquestion(\"Confirm\",\"Will you select : \" + str(columnas.get()) + \" columns & \" + str(filas.get()) + \" rows?\")\n",
    "        if conf == \"yes\":\n",
    "            global usecols   # cada vez que las queremos modificar tenemos que decirle que nos referimos a las globales\n",
    "            global skiprows  #Deberíamos buscar una solución para esto, ya que no es muy bueno, pero no podemos retornar\n",
    "            global sep        #correctametne las variables porque estan en una función anidada\n",
    "            usecols = columnas.get()   \n",
    "            skiprows = filas.get()     \n",
    "            sep = separador.get()\n",
    "                        \n",
    "            selec_pd_win.destroy()\n",
    "            global col_names_win \n",
    "            col_names_win = Tk()\n",
    "            col_names_win.title(\"Columns\")\n",
    "            col_names_win.label1 = Label(col_names_win, text = \"Name:\").place(x=30,y=20)\n",
    "            col_names_win.label2 = Label(col_names_win, text = \"Type:\").place(x=170,y=20)\n",
    "        \n",
    "            col_names_win.geometry(\"350x\"+str(40+columnas.get()*35))\n",
    "            for i in range(columnas.get()):\n",
    "                col_n.append(StringVar())\n",
    "                col_t.append(StringVar())\n",
    "                col_names_win.entry = Entry(col_names_win, textvariable=col_n[i]).place(x=30 , y=40+i*26)\n",
    "                col_names_win.spinbox = Spinbox(col_names_win, values = (\"Channel\", \"Misc\", \"Tag\", \"Time\", \"Accel\"), wrap =True, textvariable =col_t[i]).place(x=170 , y=40+i*26)\n",
    "            col_names_win.button1 = Button (col_names_win , text=\"Print Values\", command=print_col).place(x=100, y=40+26*columnas.get()) #command= imprimir)\n",
    "            col_names_win.mainloop()\n",
    "\n",
    "    selec_pd_win = Tk() #Crea la ventana\n",
    "    \n",
    "    col_n = []\n",
    "    col_t = []\n",
    "    \n",
    "    columnas = IntVar()\n",
    "    filas = IntVar()\n",
    "    separador = StringVar()\n",
    "\n",
    "    selec_pd_win.title(\"Set parameters for Pandas\" ) \n",
    "    selec_pd_win.geometry(\"350x200\")\n",
    "\n",
    "    selec_pd_win.label1 = Label(selec_pd_win , text= \"Rows to Skip:\").place(x=30,y=20)\n",
    "    selec_pd_win.entry1 = Entry(selec_pd_win, textvariable=filas).place(x=170 , y=20)\n",
    "\n",
    "    selec_pd_win.label2 = Label(selec_pd_win, text=\"Columns to use:\").place(x=30 , y=60)\n",
    "    selec_pd_win.entry2 = Entry(selec_pd_win, textvariable=columnas).place(x=170 , y=60)\n",
    "\n",
    "    selec_pd_win.label3 = Label(selec_pd_win, text=\"Separator to use:\").place(x=30 , y=100)\n",
    "    selec_pd_win.entry3 = Entry(selec_pd_win, textvariable=separador).place(x=170 , y=100)\n",
    "\n",
    "    selec_pd_win.button1 = Button (selec_pd_win , text=\"Accept\", command=selec_pd).place(x=170 , y=150) #command= imprimir)\n",
    "\n",
    "    selec_pd_win.mainloop()"
   ]
  },
  {
   "cell_type": "code",
   "execution_count": 38,
   "metadata": {},
   "outputs": [],
   "source": [
    "def chan_config(col_names, col_types):\n",
    "    \n",
    "    def print_chan():\n",
    "        global chan_pos\n",
    "        global chan_selecc\n",
    "        chan_pos = []\n",
    "        chan_selecc = []\n",
    "        \n",
    "        chan_selec_win.destroy()\n",
    "        for i in range(chan_quant):\n",
    "            chan_pos.append(chan_p[i].get())\n",
    "            chan_selecc.append(chan_s[i].get())\n",
    "    \n",
    "    global chan_quant\n",
    "    chan_quant = 0\n",
    "    chan_all = []\n",
    "    chan_p = []\n",
    "    chan_s = []\n",
    "    \n",
    "    i = 0\n",
    "    for word in col_types:\n",
    "        if word == 'Channel':\n",
    "            chan_all.append(col_names[i])\n",
    "            chan_quant += 1\n",
    "        i += 1\n",
    "\n",
    "    chan_selec_win = Tk()\n",
    "    chan_selec_win.title(\"Channel Selection\")\n",
    "    chan_selec_win.label1 = Label(chan_selec_win, text = str(chan_quant) +' Channels were detected, wich ones will you use?').place(x=30,y=10)\n",
    "\n",
    "    chan_selec_win.geometry(\"500x\"+str(80+chan_quant*35))\n",
    "    for i in range(chan_quant):\n",
    "        chan_s.append(IntVar())\n",
    "        chan_p.append(StringVar())\n",
    "\n",
    "        chan_selec_win.label2 = Label(chan_selec_win, text = chan_all[i] + \" column:\").place(x=20 , y=40+i*26)\n",
    "        chan_selec_win.check1 = Checkbutton(chan_selec_win, text = \"Import?\", variable=chan_s[i], onvalue=1, offvalue=0).place(x=90 , y=40+i*26)\n",
    "        chan_selec_win.label3 = Label(chan_selec_win, text = \"Channel Position:\").place(x=180 , y=40+i*26)\n",
    "        chan_selec_win.entry1 = Entry(chan_selec_win, textvariable = chan_p[i]).place(x=300 , y=40+i*26)\n",
    "\n",
    "    chan_selec_win.button1 = Button (chan_selec_win , text=\"Print Value\", command=print_chan).place(x=100, y=60+26*chan_quant) #command= imprimir)\n",
    "\n",
    "    chan_selec_win.mainloop()"
   ]
  },
  {
   "cell_type": "code",
   "execution_count": 39,
   "metadata": {},
   "outputs": [],
   "source": [
    "def pd_toarray(X_pd):\n",
    "    \n",
    "    i = 0\n",
    "    j = 0\n",
    "    chan_list = []\n",
    "    accel_list = []\n",
    "    tag_list = []\n",
    "    global col_types\n",
    "    global chan_selecc\n",
    "    \n",
    "    while i < X_pd.shape[-1]:\n",
    "        if col_types[i] == \"Channel\":\n",
    "            if chan_selecc[j] == 1:\n",
    "                chan_list.append(X_pd.columns[i])\n",
    "            j += 1\n",
    "\n",
    "        if col_types[i] == \" Accel\":\n",
    "            accel_list.append(X_pd.columns[i])\n",
    "\n",
    "        if col_types[i] == \"Tag\":\n",
    "            tag_list.append(X_pd.columns[i])\n",
    "        i += 1\n",
    "\n",
    "    X_chan = (X_pd.filter(chan_list)).values\n",
    "    X_accel = (X_pd.filter(accel_list)).values\n",
    "    X_tag = (X_pd.filter(tag_list)).values\n",
    "    \n",
    "    return X_chan, X_accel, X_tag"
   ]
  },
  {
   "cell_type": "code",
   "execution_count": 40,
   "metadata": {},
   "outputs": [],
   "source": [
    "def array_tomneRaw(X_chan):\n",
    "    global chan_selecc\n",
    "    global chan_pos\n",
    "    ch_names = []\n",
    "    #montage = []\n",
    "\n",
    "    for i in get_indexes(1,chan_selecc):\n",
    "        ch_names.append('Ch'+ str(i+1))\n",
    "        #montage.append(chan_pos[i])   No funciona así, porque hay que darle una variable montage especifica, hay que ver como crearla\n",
    "\n",
    "    X_mneinfo = mne.create_info(ch_names = ch_names, \n",
    "                                ch_types = 'eeg', \n",
    "                                #montage = montage,  ver como crear el montage https://martinos.org/mne/dev/generated/mne.channels.Montage.html#mne.channels.Montage\n",
    "                                sfreq = 200) #Cambiar por fq_sub\n",
    "\n",
    "    X_mneRaw = mne.io.RawArray(np.transpose(X_chan), info = X_mneinfo)\n",
    "    \n",
    "    return X_mneRaw #ver si también retornamos X_mneinfo\n"
   ]
  },
  {
   "cell_type": "code",
   "execution_count": 67,
   "metadata": {},
   "outputs": [],
   "source": [
    "def sgn_preproc(X_mneRaw):\n",
    "    global fq_lo\n",
    "    global fq_hi\n",
    "    global fq_no\n",
    "    global fq_sub\n",
    "    \n",
    "    filt_order = input(\"Insert Butterworth filter Order (if blank, default is 5): \")\n",
    "    \n",
    "    if filt_order == '':\n",
    "        filt_order = 5\n",
    "    else:\n",
    "        filt_order = int(filt_order)\n",
    "        \n",
    "    fq_lo = input(\"Insert Low Frequency for Bandpass Filter (leave blank space for no filtering): \")\n",
    "    \n",
    "    if fq_lo == '':\n",
    "        fq_lo = None\n",
    "    else:\n",
    "        fq_lo = float(fq_lo)\n",
    "    \n",
    "    fq_hi = input(\"Insert High Frequency for Bandpass Filter (leave blank space for no filtering): \")\n",
    "    \n",
    "    if fq_hi == '':\n",
    "        fq_hi = None\n",
    "    else:\n",
    "        fq_hi = float(fq_hi)\n",
    "    \n",
    "    filtered_signal = X_mneRaw.copy()\n",
    "    \n",
    "    filtered_signal.filter(l_freq = fq_lo,\n",
    "                           h_freq = fq_hi,\n",
    "                           method = 'iir',\n",
    "                           iir_params = dict(order = filt_order,\n",
    "                                             ftype = \"butter\"\n",
    "                                            )\n",
    "                        )\n",
    "    \n",
    "    fq_no = input(\"Insert Frequency for Notch Filter (leave blank space for no filtering): \") #Se puede agregar para que filtre en varias frecuencias con notch, pasando una lista de floats\n",
    "    \n",
    "    if fq_no == '':\n",
    "        fq_no = None\n",
    "    else:\n",
    "        fq_no = float(fq_no)\n",
    "        \n",
    "    filtered_signal.notch_filter(freqs = fq_no,\n",
    "                                notch_widths = 1,\n",
    "                                method = 'iir',\n",
    "                                iir_params = dict(order = filt_order,\n",
    "                                                  ftype = \"butter\"\n",
    "                                                 )\n",
    "                                )\n",
    "    \n",
    "    fq_sub = input(\"Insert Subsample Frequency (Insert 200 for no Subsampling): \")\n",
    "    \n",
    "    if fq_sub != '' and fq_sub != '200':\n",
    "        fq_sub = float(fq_sub)\n",
    "        filtered_signal.resample(sfreq = fq_sub)\n",
    "        return filtered_signal\n",
    "    else:\n",
    "        return filtered_signal"
   ]
  },
  {
   "cell_type": "markdown",
   "metadata": {},
   "source": [
    "### Cuerpo del Código"
   ]
  },
  {
   "cell_type": "code",
   "execution_count": 68,
   "metadata": {
    "scrolled": false
   },
   "outputs": [
    {
     "name": "stdout",
     "output_type": "stream",
     "text": [
      "Wich will be the signal name? Agus\n",
      "C:/Users/Mari y Juanma/Desktop/Nerdeala/OTTAA/Comparacion/96cb-Fase1-AR1-18-01-19.txt\n",
      "Is it a file exported by the OpenBCI Software? [Y/N]: Y\n",
      "Will you use the default OpenBCI configuration? [Y/N]: Y\n",
      "Signal Loaded. TXT format.\n",
      "Creating RawArray with float64 data, n_channels=2, n_times=320697\n",
      "    Range : 0 ... 320696 =      0.000 ...  1603.480 secs\n",
      "Ready.\n",
      "Insert Butterworth filter Order (if blank, default is 5): 6\n",
      "Insert Low Frequency for Bandpass Filter (leave blank space for no filtering): 5\n",
      "Insert High Frequency for Bandpass Filter (leave blank space for no filtering): 45\n",
      "Setting up band-pass filter from 5 - 45 Hz\n",
      "Insert Frequency for Notch Filter (leave blank space for no filtering): 50\n",
      "Setting up band-stop filter from 49 - 51 Hz\n",
      "Insert Subsample Frequency (Insert 200 for no Subsampling): 200\n"
     ]
    }
   ],
   "source": [
    "X_pd, signalname = load_signal()\n",
    "\n",
    "chan_config(col_names, col_types)\n",
    "\n",
    "X_chan, X_accel, X_tag = pd_toarray(X_pd)\n",
    "\n",
    "X_mneRaw = array_tomneRaw(X_chan)\n",
    "\n",
    "X_mneProc = sgn_preproc(X_mneRaw)"
   ]
  },
  {
   "cell_type": "code",
   "execution_count": 74,
   "metadata": {},
   "outputs": [
    {
     "data": {
      "text/plain": [
       "[<matplotlib.lines.Line2D at 0x29228635b70>]"
      ]
     },
     "execution_count": 74,
     "metadata": {},
     "output_type": "execute_result"
    },
    {
     "data": {
      "image/png": "[encoded data removed]",
      "text/plain": [
       "<Figure size 432x288 with 2 Axes>"
      ]
     },
     "metadata": {
      "needs_background": "light"
     },
     "output_type": "display_data"
    }
   ],
   "source": [
    "fr1 = np.fft.fftfreq(6000, d = 1/200)\n",
    "tf1 = np.fft.fftshift(abs(np.fft.fft(X_mneRaw.get_data()[0,72000:78000])))\n",
    "\n",
    "plt.subplot(211)\n",
    "plt.plot(X_mneRaw.get_data()[0,72000:78000])\n",
    "\n",
    "plt.subplot(212)\n",
    "plt.xlim((0,60))\n",
    "plt.ylim((0,5000))\n",
    "plt.plot(fr1, tf1)"
   ]
  },
  {
   "cell_type": "code",
   "execution_count": 83,
   "metadata": {},
   "outputs": [
    {
     "data": {
      "text/plain": [
       "[<matplotlib.lines.Line2D at 0x2921f9d7668>]"
      ]
     },
     "execution_count": 83,
     "metadata": {},
     "output_type": "execute_result"
    },
    {
     "data": {
      "image/png": "[encoded data removed]",
      "text/plain": [
       "<Figure size 432x288 with 2 Axes>"
      ]
     },
     "metadata": {
      "needs_background": "light"
     },
     "output_type": "display_data"
    }
   ],
   "source": [
    "fr2 = np.fft.fftfreq(6000, d = 1/200)\n",
    "tf2 = abs(np.fft.fft(X_mneProc.get_data()[0,72000:78000]))\n",
    "\n",
    "plt.subplot(211)\n",
    "plt.plot(X_mneProc.get_data()[0,72000:72200])\n",
    "\n",
    "plt.subplot(212)\n",
    "plt.xlim((0,60))\n",
    "plt.ylim((0,3000))\n",
    "plt.plot(fr2, tf2)"
   ]
  },
  {
   "cell_type": "code",
   "execution_count": 92,
   "metadata": {},
   "outputs": [
    {
     "data": {
      "image/png": "[encoded data removed]",
      "text/plain": [
       "<Figure size 432x288 with 4 Axes>"
      ]
     },
     "metadata": {},
     "output_type": "display_data"
    },
    {
     "data": {
      "image/png": "[encoded data removed]",
      "text/plain": [
       "<Figure size 432x288 with 4 Axes>"
      ]
     },
     "execution_count": 92,
     "metadata": {},
     "output_type": "execute_result"
    }
   ],
   "source": [
    "X_mneProc.plot(duration = 1.0, start = 360.0, n_channels = 1, scalings = dict(eeg=20))"
   ]
  }
 ],
 "metadata": {
  "kernelspec": {
   "display_name": "Python 3",
   "language": "python",
   "name": "python3"
  },
  "language_info": {
   "codemirror_mode": {
    "name": "ipython",
    "version": 3
   },
   "file_extension": ".py",
   "mimetype": "text/x-python",
   "name": "python",
   "nbconvert_exporter": "python",
   "pygments_lexer": "ipython3",
   "version": "3.7.1"
  }
 },
 "nbformat": 4,
 "nbformat_minor": 2
}
